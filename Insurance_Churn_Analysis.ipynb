{
 "cells": [
  {
   "cell_type": "markdown",
   "metadata": {},
   "source": [
    "# Health_Insurance_Membership_Survival_Model\n"
   ]
  },
  {
   "cell_type": "markdown",
   "metadata": {},
   "source": [
    "#### Required Packages and Running Enviornment"
   ]
  },
  {
   "cell_type": "code",
   "execution_count": 1,
   "metadata": {},
   "outputs": [],
   "source": [
    "import pandas as pd\n",
    "import numpy as np\n",
    "\n",
    "import matplotlib.pyplot as plt\n",
    "import seaborn as sns; sns.set()\n",
    "\n",
    "from sklearn import preprocessing\n",
    "from lifelines import CoxPHFitter\n",
    "from lifelines.utils import k_fold_cross_validation\n",
    "from lifelines.utils import median_survival_times\n",
    "\n",
    "plt.style.use('fivethirtyeight')\n",
    "\n",
    "import os, warnings\n",
    "warnings.filterwarnings(\"ignore\")"
   ]
  },
  {
   "cell_type": "code",
   "execution_count": 2,
   "metadata": {},
   "outputs": [
    {
     "name": "stdout",
     "output_type": "stream",
     "text": [
      "Python version: 3.8.5\n"
     ]
    }
   ],
   "source": [
    "import platform\n",
    "print(\"Python version:\", platform.python_version())"
   ]
  },
  {
   "cell_type": "markdown",
   "metadata": {},
   "source": [
    "## Data Load"
   ]
  },
  {
   "cell_type": "code",
   "execution_count": 3,
   "metadata": {},
   "outputs": [],
   "source": [
    "# Data Load\n",
    "df = pd.read_csv(\"dataset.csv\")"
   ]
  },
  {
   "cell_type": "code",
   "execution_count": 4,
   "metadata": {},
   "outputs": [
    {
     "data": {
      "text/html": [
       "<div>\n",
       "<style scoped>\n",
       "    .dataframe tbody tr th:only-of-type {\n",
       "        vertical-align: middle;\n",
       "    }\n",
       "\n",
       "    .dataframe tbody tr th {\n",
       "        vertical-align: top;\n",
       "    }\n",
       "\n",
       "    .dataframe thead th {\n",
       "        text-align: right;\n",
       "    }\n",
       "</style>\n",
       "<table border=\"1\" class=\"dataframe\">\n",
       "  <thead>\n",
       "    <tr style=\"text-align: right;\">\n",
       "      <th></th>\n",
       "      <th>Customer ID</th>\n",
       "      <th>Membership Start Date</th>\n",
       "      <th>Transaction Date</th>\n",
       "      <th>Payment Type</th>\n",
       "      <th>Revenue</th>\n",
       "    </tr>\n",
       "  </thead>\n",
       "  <tbody>\n",
       "    <tr>\n",
       "      <th>0</th>\n",
       "      <td>386379</td>\n",
       "      <td>2019-02-19</td>\n",
       "      <td>2019-02-18</td>\n",
       "      <td>Annual Fee</td>\n",
       "      <td>285.9</td>\n",
       "    </tr>\n",
       "    <tr>\n",
       "      <th>1</th>\n",
       "      <td>386379</td>\n",
       "      <td>2019-02-19</td>\n",
       "      <td>2019-02-18</td>\n",
       "      <td>Monthly Fee</td>\n",
       "      <td>26.5</td>\n",
       "    </tr>\n",
       "    <tr>\n",
       "      <th>2</th>\n",
       "      <td>386379</td>\n",
       "      <td>2019-02-19</td>\n",
       "      <td>2019-03-19</td>\n",
       "      <td>Monthly Fee</td>\n",
       "      <td>26.5</td>\n",
       "    </tr>\n",
       "    <tr>\n",
       "      <th>3</th>\n",
       "      <td>386379</td>\n",
       "      <td>2019-02-19</td>\n",
       "      <td>2019-04-19</td>\n",
       "      <td>Monthly Fee</td>\n",
       "      <td>26.5</td>\n",
       "    </tr>\n",
       "    <tr>\n",
       "      <th>4</th>\n",
       "      <td>386379</td>\n",
       "      <td>2019-02-19</td>\n",
       "      <td>2019-05-19</td>\n",
       "      <td>Monthly Fee</td>\n",
       "      <td>26.5</td>\n",
       "    </tr>\n",
       "  </tbody>\n",
       "</table>\n",
       "</div>"
      ],
      "text/plain": [
       "   Customer ID Membership Start Date Transaction Date Payment Type  Revenue\n",
       "0       386379            2019-02-19       2019-02-18   Annual Fee    285.9\n",
       "1       386379            2019-02-19       2019-02-18  Monthly Fee     26.5\n",
       "2       386379            2019-02-19       2019-03-19  Monthly Fee     26.5\n",
       "3       386379            2019-02-19       2019-04-19  Monthly Fee     26.5\n",
       "4       386379            2019-02-19       2019-05-19  Monthly Fee     26.5"
      ]
     },
     "execution_count": 4,
     "metadata": {},
     "output_type": "execute_result"
    }
   ],
   "source": [
    "df.head()"
   ]
  },
  {
   "cell_type": "code",
   "execution_count": 5,
   "metadata": {},
   "outputs": [
    {
     "data": {
      "text/plain": [
       "Customer ID              0\n",
       "Membership Start Date    0\n",
       "Transaction Date         0\n",
       "Payment Type             0\n",
       "Revenue                  0\n",
       "dtype: int64"
      ]
     },
     "execution_count": 5,
     "metadata": {},
     "output_type": "execute_result"
    }
   ],
   "source": [
    "# Check any missing values\n",
    "df.isnull().sum()"
   ]
  },
  {
   "cell_type": "code",
   "execution_count": 6,
   "metadata": {},
   "outputs": [],
   "source": [
    "# Change date format\n",
    "df['Transaction Date'] = df['Transaction Date'].astype('datetime64[ns]')\n",
    "df['Membership Start Date'] = df['Membership Start Date'].astype('datetime64[ns]')"
   ]
  },
  {
   "cell_type": "code",
   "execution_count": 7,
   "metadata": {},
   "outputs": [],
   "source": [
    "# Create Cohort for later analysis\n",
    "df['Cohort'] = pd.to_datetime(df['Membership Start Date']).dt.to_period('M')\n",
    "\n",
    "# Create tranaction month\n",
    "df['Trans_Dt'] = pd.to_datetime(df['Transaction Date']).dt.to_period('M') \n",
    "df['Trans_Month_Only'] = df['Transaction Date'].dt.month\n",
    "\n",
    "# Calculate Age = Month Since Membership \n",
    "df['Age'] =  df['Trans_Dt'].astype(int)- df['Cohort'].astype(int)\n",
    "\n",
    "# Floor negative Age. ALL observations will start from Age=0\n",
    "df['Age'] = np.where(df['Age']<0, 0, df['Age'])"
   ]
  },
  {
   "cell_type": "code",
   "execution_count": 8,
   "metadata": {},
   "outputs": [
    {
     "data": {
      "text/html": [
       "<div>\n",
       "<style scoped>\n",
       "    .dataframe tbody tr th:only-of-type {\n",
       "        vertical-align: middle;\n",
       "    }\n",
       "\n",
       "    .dataframe tbody tr th {\n",
       "        vertical-align: top;\n",
       "    }\n",
       "\n",
       "    .dataframe thead th {\n",
       "        text-align: right;\n",
       "    }\n",
       "</style>\n",
       "<table border=\"1\" class=\"dataframe\">\n",
       "  <thead>\n",
       "    <tr style=\"text-align: right;\">\n",
       "      <th></th>\n",
       "      <th>Customer ID</th>\n",
       "      <th>Membership Start Date</th>\n",
       "      <th>Transaction Date</th>\n",
       "      <th>Payment Type</th>\n",
       "      <th>Revenue</th>\n",
       "      <th>Cohort</th>\n",
       "      <th>Trans_Dt</th>\n",
       "      <th>Trans_Month_Only</th>\n",
       "      <th>Age</th>\n",
       "    </tr>\n",
       "  </thead>\n",
       "  <tbody>\n",
       "    <tr>\n",
       "      <th>0</th>\n",
       "      <td>386379</td>\n",
       "      <td>2019-02-19</td>\n",
       "      <td>2019-02-18</td>\n",
       "      <td>Annual Fee</td>\n",
       "      <td>285.9</td>\n",
       "      <td>2019-02</td>\n",
       "      <td>2019-02</td>\n",
       "      <td>2</td>\n",
       "      <td>0</td>\n",
       "    </tr>\n",
       "    <tr>\n",
       "      <th>1</th>\n",
       "      <td>386379</td>\n",
       "      <td>2019-02-19</td>\n",
       "      <td>2019-02-18</td>\n",
       "      <td>Monthly Fee</td>\n",
       "      <td>26.5</td>\n",
       "      <td>2019-02</td>\n",
       "      <td>2019-02</td>\n",
       "      <td>2</td>\n",
       "      <td>0</td>\n",
       "    </tr>\n",
       "    <tr>\n",
       "      <th>2</th>\n",
       "      <td>386379</td>\n",
       "      <td>2019-02-19</td>\n",
       "      <td>2019-03-19</td>\n",
       "      <td>Monthly Fee</td>\n",
       "      <td>26.5</td>\n",
       "      <td>2019-02</td>\n",
       "      <td>2019-03</td>\n",
       "      <td>3</td>\n",
       "      <td>1</td>\n",
       "    </tr>\n",
       "    <tr>\n",
       "      <th>3</th>\n",
       "      <td>386379</td>\n",
       "      <td>2019-02-19</td>\n",
       "      <td>2019-04-19</td>\n",
       "      <td>Monthly Fee</td>\n",
       "      <td>26.5</td>\n",
       "      <td>2019-02</td>\n",
       "      <td>2019-04</td>\n",
       "      <td>4</td>\n",
       "      <td>2</td>\n",
       "    </tr>\n",
       "    <tr>\n",
       "      <th>4</th>\n",
       "      <td>386379</td>\n",
       "      <td>2019-02-19</td>\n",
       "      <td>2019-05-19</td>\n",
       "      <td>Monthly Fee</td>\n",
       "      <td>26.5</td>\n",
       "      <td>2019-02</td>\n",
       "      <td>2019-05</td>\n",
       "      <td>5</td>\n",
       "      <td>3</td>\n",
       "    </tr>\n",
       "  </tbody>\n",
       "</table>\n",
       "</div>"
      ],
      "text/plain": [
       "   Customer ID Membership Start Date Transaction Date Payment Type  Revenue  \\\n",
       "0       386379            2019-02-19       2019-02-18   Annual Fee    285.9   \n",
       "1       386379            2019-02-19       2019-02-18  Monthly Fee     26.5   \n",
       "2       386379            2019-02-19       2019-03-19  Monthly Fee     26.5   \n",
       "3       386379            2019-02-19       2019-04-19  Monthly Fee     26.5   \n",
       "4       386379            2019-02-19       2019-05-19  Monthly Fee     26.5   \n",
       "\n",
       "    Cohort Trans_Dt  Trans_Month_Only  Age  \n",
       "0  2019-02  2019-02                 2    0  \n",
       "1  2019-02  2019-02                 2    0  \n",
       "2  2019-02  2019-03                 3    1  \n",
       "3  2019-02  2019-04                 4    2  \n",
       "4  2019-02  2019-05                 5    3  "
      ]
     },
     "execution_count": 8,
     "metadata": {},
     "output_type": "execute_result"
    }
   ],
   "source": [
    "df.head()"
   ]
  },
  {
   "cell_type": "code",
   "execution_count": 9,
   "metadata": {},
   "outputs": [
    {
     "name": "stdout",
     "output_type": "stream",
     "text": [
      "Min of Age: 0\n",
      "Max of Age: 10\n"
     ]
    },
    {
     "data": {
      "image/png": "[encoded data removed]",
      "text/plain": [
       "<Figure size 576x432 with 1 Axes>"
      ]
     },
     "metadata": {},
     "output_type": "display_data"
    }
   ],
   "source": [
    "#Histogram of Age\n",
    "fig, ax = plt.subplots(figsize=(8, 6))\n",
    "ax = sns.distplot(df['Age'], rug=True, hist=False)\n",
    "ax.set_title(\"Histogram: Month Since Membership Start Date\")\n",
    "print(\"Min of Age:\", df['Age'].min())\n",
    "print(\"Max of Age:\", df['Age'].max())"
   ]
  },
  {
   "cell_type": "markdown",
   "metadata": {},
   "source": [
    "## Q1-a) 1. Which month had the highest revenue (by \"Transaction Date\")?"
   ]
  },
  {
   "cell_type": "code",
   "execution_count": 10,
   "metadata": {},
   "outputs": [
    {
     "name": "stdout",
     "output_type": "stream",
     "text": [
      "Trans_Month_Only\n",
      "12    1255965.000\n",
      "11    1166113.000\n",
      "2      946181.200\n",
      "3      942902.100\n",
      "1      919455.300\n",
      "10     804539.200\n",
      "4      741514.300\n",
      "8      709209.205\n",
      "9      579243.110\n",
      "7      545955.485\n",
      "5      127041.910\n",
      "6      106774.470\n",
      "Name: Revenue, dtype: float64\n"
     ]
    },
    {
     "data": {
      "image/png": "[encoded data removed]",
      "text/plain": [
       "<Figure size 576x432 with 1 Axes>"
      ]
     },
     "metadata": {},
     "output_type": "display_data"
    }
   ],
   "source": [
    "# By Month Only: December has the highest revenue\n",
    "test =df.groupby(['Trans_Month_Only'])['Revenue'].sum()\n",
    "print (test.sort_values(ascending=False).nlargest(12))\n",
    "\n",
    "# Plot by Month\n",
    "test.plot(marker='o', figsize=(8,6))\n",
    "plt.ylabel('Total Revenue')\n",
    "plt.title(\"Total Revenue by Transaction Month\")\n",
    "plt.show()"
   ]
  },
  {
   "cell_type": "code",
   "execution_count": 11,
   "metadata": {},
   "outputs": [
    {
     "name": "stdout",
     "output_type": "stream",
     "text": [
      "Trans_Dt\n",
      "2018-12    1255965.000\n",
      "2018-11    1166113.000\n",
      "2019-02     946181.200\n",
      "2019-03     942902.100\n",
      "2019-01     919455.300\n",
      "2018-10     804539.200\n",
      "2019-04     741514.300\n",
      "2018-08     709209.205\n",
      "2018-09     579243.110\n",
      "2018-07     545955.485\n",
      "2019-05     126380.700\n",
      "2018-06     105882.770\n",
      "Freq: M, Name: Revenue, dtype: float64\n"
     ]
    },
    {
     "data": {
      "image/png": "[encoded data removed]",
      "text/plain": [
       "<Figure size 576x432 with 1 Axes>"
      ]
     },
     "metadata": {},
     "output_type": "display_data"
    }
   ],
   "source": [
    "# By Transaction Date (YYYY-MM): 2018-12 has the highest revenue\n",
    "test =df.groupby(['Trans_Dt'])['Revenue'].sum()\n",
    "print (test.sort_values(ascending=False).nlargest(12))\n",
    "\n",
    "# Plot \n",
    "test.plot(marker='o', figsize=(8,6))\n",
    "plt.ylabel('Total Revenue')\n",
    "plt.title(\"Total Revenue by Transaction Date\")\n",
    "plt.show()"
   ]
  },
  {
   "cell_type": "markdown",
   "metadata": {},
   "source": [
    "## Q1-b) What was the percentage of revenue for that month by payment type?"
   ]
  },
  {
   "cell_type": "code",
   "execution_count": 12,
   "metadata": {},
   "outputs": [],
   "source": [
    "# Select trans month = 2018-12\n",
    "Dec =  df.loc[df['Trans_Dt']==\"2018-12\"]"
   ]
  },
  {
   "cell_type": "code",
   "execution_count": 13,
   "metadata": {},
   "outputs": [
    {
     "data": {
      "text/html": [
       "<div>\n",
       "<style scoped>\n",
       "    .dataframe tbody tr th:only-of-type {\n",
       "        vertical-align: middle;\n",
       "    }\n",
       "\n",
       "    .dataframe tbody tr th {\n",
       "        vertical-align: top;\n",
       "    }\n",
       "\n",
       "    .dataframe thead th {\n",
       "        text-align: right;\n",
       "    }\n",
       "</style>\n",
       "<table border=\"1\" class=\"dataframe\">\n",
       "  <thead>\n",
       "    <tr style=\"text-align: right;\">\n",
       "      <th></th>\n",
       "      <th>Payment Type</th>\n",
       "      <th>sum</th>\n",
       "      <th>Pecent</th>\n",
       "    </tr>\n",
       "  </thead>\n",
       "  <tbody>\n",
       "    <tr>\n",
       "      <th>0</th>\n",
       "      <td>Annual Fee</td>\n",
       "      <td>1150124.0</td>\n",
       "      <td>91.6</td>\n",
       "    </tr>\n",
       "    <tr>\n",
       "      <th>1</th>\n",
       "      <td>Monthly Fee</td>\n",
       "      <td>105841.0</td>\n",
       "      <td>8.4</td>\n",
       "    </tr>\n",
       "  </tbody>\n",
       "</table>\n",
       "</div>"
      ],
      "text/plain": [
       "  Payment Type        sum  Pecent\n",
       "0   Annual Fee  1150124.0    91.6\n",
       "1  Monthly Fee   105841.0     8.4"
      ]
     },
     "execution_count": 13,
     "metadata": {},
     "output_type": "execute_result"
    }
   ],
   "source": [
    "# 91.6% of revenue in December is from Annual fee, 8.4% is from Monthly fee\n",
    "dec_rev = Dec.groupby([\"Payment Type\"])['Revenue'].agg([\"sum\"]).reset_index()\n",
    "dec_rev['Pecent'] = (dec_rev['sum'] / Dec['Revenue'].sum()).round(3)*100\n",
    "dec_rev"
   ]
  },
  {
   "cell_type": "markdown",
   "metadata": {},
   "source": [
    "## Q2) How many members started their memberships in December 2018?"
   ]
  },
  {
   "cell_type": "code",
   "execution_count": 14,
   "metadata": {},
   "outputs": [],
   "source": [
    "Dec2018= df.loc[df['Cohort']=='2018-12']"
   ]
  },
  {
   "cell_type": "code",
   "execution_count": 15,
   "metadata": {},
   "outputs": [
    {
     "name": "stdout",
     "output_type": "stream",
     "text": [
      "unique number of customers started membership in Dec-2018: 1254\n"
     ]
    }
   ],
   "source": [
    "# 1254 people started their memberships in December 2018\n",
    "Dec2018_Cohort = Dec2018.groupby('Customer ID')['Customer ID'].agg('nunique').sum()\n",
    "print(\"unique number of customers started membership in Dec-2018:\", Dec2018_Cohort)"
   ]
  },
  {
   "cell_type": "markdown",
   "metadata": {},
   "source": [
    "## Q3) On average, for how many months did members who started their memberships in July 2018 continue to pay the monthly fee?"
   ]
  },
  {
   "cell_type": "code",
   "execution_count": 16,
   "metadata": {},
   "outputs": [],
   "source": [
    "# Pick July 2018 Data\n",
    "Jul2018= df.loc[df['Cohort']=='2018-07']"
   ]
  },
  {
   "cell_type": "code",
   "execution_count": 17,
   "metadata": {},
   "outputs": [
    {
     "data": {
      "text/html": [
       "<div>\n",
       "<style scoped>\n",
       "    .dataframe tbody tr th:only-of-type {\n",
       "        vertical-align: middle;\n",
       "    }\n",
       "\n",
       "    .dataframe tbody tr th {\n",
       "        vertical-align: top;\n",
       "    }\n",
       "\n",
       "    .dataframe thead th {\n",
       "        text-align: right;\n",
       "    }\n",
       "</style>\n",
       "<table border=\"1\" class=\"dataframe\">\n",
       "  <thead>\n",
       "    <tr style=\"text-align: right;\">\n",
       "      <th></th>\n",
       "      <th>Customer ID</th>\n",
       "      <th>Membership Start Date</th>\n",
       "      <th>Transaction Date</th>\n",
       "      <th>Payment Type</th>\n",
       "      <th>Revenue</th>\n",
       "      <th>Cohort</th>\n",
       "      <th>Trans_Dt</th>\n",
       "      <th>Trans_Month_Only</th>\n",
       "      <th>Age</th>\n",
       "    </tr>\n",
       "  </thead>\n",
       "  <tbody>\n",
       "    <tr>\n",
       "      <th>20892</th>\n",
       "      <td>312897</td>\n",
       "      <td>2018-07-01</td>\n",
       "      <td>2018-05-31</td>\n",
       "      <td>Monthly Fee</td>\n",
       "      <td>26.500</td>\n",
       "      <td>2018-07</td>\n",
       "      <td>2018-05</td>\n",
       "      <td>5</td>\n",
       "      <td>0</td>\n",
       "    </tr>\n",
       "    <tr>\n",
       "      <th>35127</th>\n",
       "      <td>314200</td>\n",
       "      <td>2018-07-01</td>\n",
       "      <td>2018-06-05</td>\n",
       "      <td>Annual Fee</td>\n",
       "      <td>827.625</td>\n",
       "      <td>2018-07</td>\n",
       "      <td>2018-06</td>\n",
       "      <td>6</td>\n",
       "      <td>0</td>\n",
       "    </tr>\n",
       "    <tr>\n",
       "      <th>20918</th>\n",
       "      <td>315406</td>\n",
       "      <td>2018-07-01</td>\n",
       "      <td>2018-06-11</td>\n",
       "      <td>Monthly Fee</td>\n",
       "      <td>26.500</td>\n",
       "      <td>2018-07</td>\n",
       "      <td>2018-06</td>\n",
       "      <td>6</td>\n",
       "      <td>0</td>\n",
       "    </tr>\n",
       "    <tr>\n",
       "      <th>35159</th>\n",
       "      <td>316393</td>\n",
       "      <td>2018-07-01</td>\n",
       "      <td>2018-06-14</td>\n",
       "      <td>Annual Fee</td>\n",
       "      <td>382.890</td>\n",
       "      <td>2018-07</td>\n",
       "      <td>2018-06</td>\n",
       "      <td>6</td>\n",
       "      <td>0</td>\n",
       "    </tr>\n",
       "    <tr>\n",
       "      <th>35174</th>\n",
       "      <td>316788</td>\n",
       "      <td>2018-07-01</td>\n",
       "      <td>2018-06-15</td>\n",
       "      <td>Monthly Fee</td>\n",
       "      <td>26.500</td>\n",
       "      <td>2018-07</td>\n",
       "      <td>2018-06</td>\n",
       "      <td>6</td>\n",
       "      <td>0</td>\n",
       "    </tr>\n",
       "  </tbody>\n",
       "</table>\n",
       "</div>"
      ],
      "text/plain": [
       "       Customer ID Membership Start Date Transaction Date Payment Type  \\\n",
       "20892       312897            2018-07-01       2018-05-31  Monthly Fee   \n",
       "35127       314200            2018-07-01       2018-06-05   Annual Fee   \n",
       "20918       315406            2018-07-01       2018-06-11  Monthly Fee   \n",
       "35159       316393            2018-07-01       2018-06-14   Annual Fee   \n",
       "35174       316788            2018-07-01       2018-06-15  Monthly Fee   \n",
       "\n",
       "       Revenue   Cohort Trans_Dt  Trans_Month_Only  Age  \n",
       "20892   26.500  2018-07  2018-05                 5    0  \n",
       "35127  827.625  2018-07  2018-06                 6    0  \n",
       "20918   26.500  2018-07  2018-06                 6    0  \n",
       "35159  382.890  2018-07  2018-06                 6    0  \n",
       "35174   26.500  2018-07  2018-06                 6    0  "
      ]
     },
     "execution_count": 17,
     "metadata": {},
     "output_type": "execute_result"
    }
   ],
   "source": [
    "# Pick the last transaction date that July Cohort paid their membership\n",
    "Last_transaction_df = Jul2018.sort_values('Transaction Date').groupby('Customer ID').tail(1)\n",
    "Last_transaction_df.head()"
   ]
  },
  {
   "cell_type": "code",
   "execution_count": 18,
   "metadata": {},
   "outputs": [
    {
     "name": "stdout",
     "output_type": "stream",
     "text": [
      "Avg Membership Duration for July 2018 Cohort inculding annual fees  (in months): 3.94\n",
      "Avg Membership Duration for July 2018 Cohort excluding annual fees  (in months): 4.68\n"
     ]
    }
   ],
   "source": [
    "# Calculate the average in months (Note: Negative Ages are floored to Zero.)\n",
    "\n",
    "#including annual fees\n",
    "membership_duration = Last_transaction_df['Age'].mean()\n",
    "print ('Avg Membership Duration for July 2018 Cohort inculding annual fees  (in months): {:.2f}'.format(membership_duration))\n",
    "\n",
    "#only count monthly fees\n",
    "membership_duration = Last_transaction_df.loc[Last_transaction_df['Payment Type']==\"Monthly Fee\"]['Age'].mean()\n",
    "print ('Avg Membership Duration for July 2018 Cohort excluding annual fees  (in months): {:.2f}'.format(membership_duration))"
   ]
  },
  {
   "cell_type": "markdown",
   "metadata": {},
   "source": [
    "## Q4). Assume that transactions for June 2019 are incomplete and that transactions beyond June 2019 are unobserved. What type of statistical or machine learning modeling technique(s) would you use to build a predictive model of customer retention?"
   ]
  },
  {
   "cell_type": "markdown",
   "metadata": {},
   "source": [
    "#### If our objective is to simply identify customers who no longer pay the monthly fees after June 2019, then we can employ classification models such as logistic regression or ensemble learning algorithms such as GBM or XGB.\n",
    "\n",
    "#### If our objective is to find the survival time, that is time to end their membership, then I would explore survival analysis trying several algorithms such as Cox's regression or accelerated failure time model.  \n",
    "\n",
    "#### In our data where we have a limited number of features and the most important being the time since membership, I think the survival analysis is more applicable. We can try to use these binary classification models by carefully constructing the age feature via fractional polynomial or kernel regression to incorporate the non-linearity trend that age exhibits w.r.t. customer churn. "
   ]
  },
  {
   "cell_type": "markdown",
   "metadata": {},
   "source": [
    "## Q5-a). How many customers paid the Monthly Fee in May 2019? "
   ]
  },
  {
   "cell_type": "code",
   "execution_count": 19,
   "metadata": {},
   "outputs": [],
   "source": [
    "# Pick May 2019 Data\n",
    "May2019= df.loc[df['Trans_Dt']=='2019-05']"
   ]
  },
  {
   "cell_type": "code",
   "execution_count": 20,
   "metadata": {},
   "outputs": [
    {
     "name": "stdout",
     "output_type": "stream",
     "text": [
      "The total number of Customers paid the Monthly Fee in May 2019: 4585\n",
      "The unique number of Customers paid the Monthly Fee in May 2019: 4533\n"
     ]
    }
   ],
   "source": [
    "# Get total number and the unique number of customers who paid the monthly fee\n",
    "May2019_fee_total = May2019.loc[May2019['Payment Type']==\"Monthly Fee\"]['Customer ID'].agg('count')\n",
    "print('The total number of Customers paid the Monthly Fee in May 2019:', May2019_fee_total )\n",
    "\n",
    "May2019_fee_unique = May2019.loc[May2019['Payment Type']==\"Monthly Fee\"]['Customer ID'].agg('nunique')\n",
    "print('The unique number of Customers paid the Monthly Fee in May 2019:', May2019_fee_unique )"
   ]
  },
  {
   "cell_type": "markdown",
   "metadata": {},
   "source": [
    "## Q5-b) Predict the Membership End Date for these customers.\n"
   ]
  },
  {
   "cell_type": "markdown",
   "metadata": {},
   "source": [
    "#### Let's examine each cohort's survivial trend to see they are close to each other. \n",
    "\n",
    "Although some variabilities can be seen among these survival curves, the ealier cohorts show that about 20% of paying memebers retained after 8, 9, or 10 months."
   ]
  },
  {
   "cell_type": "code",
   "execution_count": 21,
   "metadata": {},
   "outputs": [
    {
     "data": {
      "text/html": [
       "<div>\n",
       "<style scoped>\n",
       "    .dataframe tbody tr th:only-of-type {\n",
       "        vertical-align: middle;\n",
       "    }\n",
       "\n",
       "    .dataframe tbody tr th {\n",
       "        vertical-align: top;\n",
       "    }\n",
       "\n",
       "    .dataframe thead th {\n",
       "        text-align: right;\n",
       "    }\n",
       "</style>\n",
       "<table border=\"1\" class=\"dataframe\">\n",
       "  <thead>\n",
       "    <tr style=\"text-align: right;\">\n",
       "      <th>Cohort</th>\n",
       "      <th>2018-07</th>\n",
       "      <th>2018-08</th>\n",
       "      <th>2018-09</th>\n",
       "      <th>2018-10</th>\n",
       "      <th>2018-11</th>\n",
       "      <th>2018-12</th>\n",
       "      <th>2019-01</th>\n",
       "      <th>2019-02</th>\n",
       "      <th>2019-03</th>\n",
       "      <th>2019-04</th>\n",
       "    </tr>\n",
       "    <tr>\n",
       "      <th>Age</th>\n",
       "      <th></th>\n",
       "      <th></th>\n",
       "      <th></th>\n",
       "      <th></th>\n",
       "      <th></th>\n",
       "      <th></th>\n",
       "      <th></th>\n",
       "      <th></th>\n",
       "      <th></th>\n",
       "      <th></th>\n",
       "    </tr>\n",
       "  </thead>\n",
       "  <tbody>\n",
       "    <tr>\n",
       "      <th>0</th>\n",
       "      <td>1.000000</td>\n",
       "      <td>1.000000</td>\n",
       "      <td>1.000000</td>\n",
       "      <td>1.000000</td>\n",
       "      <td>1.000000</td>\n",
       "      <td>1.000000</td>\n",
       "      <td>1.000000</td>\n",
       "      <td>1.000000</td>\n",
       "      <td>1.000000</td>\n",
       "      <td>1.000000</td>\n",
       "    </tr>\n",
       "    <tr>\n",
       "      <th>1</th>\n",
       "      <td>0.689847</td>\n",
       "      <td>0.677237</td>\n",
       "      <td>0.654645</td>\n",
       "      <td>0.646996</td>\n",
       "      <td>0.668232</td>\n",
       "      <td>0.726038</td>\n",
       "      <td>0.699938</td>\n",
       "      <td>0.683930</td>\n",
       "      <td>0.647681</td>\n",
       "      <td>0.648598</td>\n",
       "    </tr>\n",
       "    <tr>\n",
       "      <th>2</th>\n",
       "      <td>0.586926</td>\n",
       "      <td>0.556059</td>\n",
       "      <td>0.563934</td>\n",
       "      <td>0.535408</td>\n",
       "      <td>0.541471</td>\n",
       "      <td>0.624601</td>\n",
       "      <td>0.614473</td>\n",
       "      <td>0.551409</td>\n",
       "      <td>0.564687</td>\n",
       "      <td>0.001869</td>\n",
       "    </tr>\n",
       "    <tr>\n",
       "      <th>3</th>\n",
       "      <td>0.517385</td>\n",
       "      <td>0.466591</td>\n",
       "      <td>0.464481</td>\n",
       "      <td>0.428112</td>\n",
       "      <td>0.451487</td>\n",
       "      <td>0.551917</td>\n",
       "      <td>0.533999</td>\n",
       "      <td>0.489718</td>\n",
       "      <td>NaN</td>\n",
       "      <td>NaN</td>\n",
       "    </tr>\n",
       "    <tr>\n",
       "      <th>4</th>\n",
       "      <td>0.445063</td>\n",
       "      <td>0.397508</td>\n",
       "      <td>0.382514</td>\n",
       "      <td>0.348712</td>\n",
       "      <td>0.394366</td>\n",
       "      <td>0.484026</td>\n",
       "      <td>0.484716</td>\n",
       "      <td>NaN</td>\n",
       "      <td>NaN</td>\n",
       "      <td>NaN</td>\n",
       "    </tr>\n",
       "    <tr>\n",
       "      <th>5</th>\n",
       "      <td>0.375522</td>\n",
       "      <td>0.325028</td>\n",
       "      <td>0.324590</td>\n",
       "      <td>0.311159</td>\n",
       "      <td>0.342723</td>\n",
       "      <td>0.439297</td>\n",
       "      <td>NaN</td>\n",
       "      <td>NaN</td>\n",
       "      <td>NaN</td>\n",
       "      <td>NaN</td>\n",
       "    </tr>\n",
       "    <tr>\n",
       "      <th>6</th>\n",
       "      <td>0.311544</td>\n",
       "      <td>0.286523</td>\n",
       "      <td>0.286339</td>\n",
       "      <td>0.269313</td>\n",
       "      <td>0.306729</td>\n",
       "      <td>NaN</td>\n",
       "      <td>NaN</td>\n",
       "      <td>NaN</td>\n",
       "      <td>NaN</td>\n",
       "      <td>NaN</td>\n",
       "    </tr>\n",
       "    <tr>\n",
       "      <th>7</th>\n",
       "      <td>0.265647</td>\n",
       "      <td>0.267271</td>\n",
       "      <td>0.253552</td>\n",
       "      <td>0.248927</td>\n",
       "      <td>NaN</td>\n",
       "      <td>NaN</td>\n",
       "      <td>NaN</td>\n",
       "      <td>NaN</td>\n",
       "      <td>NaN</td>\n",
       "      <td>NaN</td>\n",
       "    </tr>\n",
       "    <tr>\n",
       "      <th>8</th>\n",
       "      <td>0.254520</td>\n",
       "      <td>0.234428</td>\n",
       "      <td>0.229508</td>\n",
       "      <td>NaN</td>\n",
       "      <td>NaN</td>\n",
       "      <td>NaN</td>\n",
       "      <td>NaN</td>\n",
       "      <td>NaN</td>\n",
       "      <td>NaN</td>\n",
       "      <td>NaN</td>\n",
       "    </tr>\n",
       "    <tr>\n",
       "      <th>9</th>\n",
       "      <td>0.226704</td>\n",
       "      <td>0.217441</td>\n",
       "      <td>NaN</td>\n",
       "      <td>NaN</td>\n",
       "      <td>NaN</td>\n",
       "      <td>NaN</td>\n",
       "      <td>NaN</td>\n",
       "      <td>NaN</td>\n",
       "      <td>NaN</td>\n",
       "      <td>NaN</td>\n",
       "    </tr>\n",
       "    <tr>\n",
       "      <th>10</th>\n",
       "      <td>0.207232</td>\n",
       "      <td>NaN</td>\n",
       "      <td>NaN</td>\n",
       "      <td>NaN</td>\n",
       "      <td>NaN</td>\n",
       "      <td>NaN</td>\n",
       "      <td>NaN</td>\n",
       "      <td>NaN</td>\n",
       "      <td>NaN</td>\n",
       "      <td>NaN</td>\n",
       "    </tr>\n",
       "  </tbody>\n",
       "</table>\n",
       "</div>"
      ],
      "text/plain": [
       "Cohort   2018-07   2018-08   2018-09   2018-10   2018-11   2018-12   2019-01  \\\n",
       "Age                                                                            \n",
       "0       1.000000  1.000000  1.000000  1.000000  1.000000  1.000000  1.000000   \n",
       "1       0.689847  0.677237  0.654645  0.646996  0.668232  0.726038  0.699938   \n",
       "2       0.586926  0.556059  0.563934  0.535408  0.541471  0.624601  0.614473   \n",
       "3       0.517385  0.466591  0.464481  0.428112  0.451487  0.551917  0.533999   \n",
       "4       0.445063  0.397508  0.382514  0.348712  0.394366  0.484026  0.484716   \n",
       "5       0.375522  0.325028  0.324590  0.311159  0.342723  0.439297       NaN   \n",
       "6       0.311544  0.286523  0.286339  0.269313  0.306729       NaN       NaN   \n",
       "7       0.265647  0.267271  0.253552  0.248927       NaN       NaN       NaN   \n",
       "8       0.254520  0.234428  0.229508       NaN       NaN       NaN       NaN   \n",
       "9       0.226704  0.217441       NaN       NaN       NaN       NaN       NaN   \n",
       "10      0.207232       NaN       NaN       NaN       NaN       NaN       NaN   \n",
       "\n",
       "Cohort   2019-02   2019-03   2019-04  \n",
       "Age                                   \n",
       "0       1.000000  1.000000  1.000000  \n",
       "1       0.683930  0.647681  0.648598  \n",
       "2       0.551409  0.564687  0.001869  \n",
       "3       0.489718       NaN       NaN  \n",
       "4            NaN       NaN       NaN  \n",
       "5            NaN       NaN       NaN  \n",
       "6            NaN       NaN       NaN  \n",
       "7            NaN       NaN       NaN  \n",
       "8            NaN       NaN       NaN  \n",
       "9            NaN       NaN       NaN  \n",
       "10           NaN       NaN       NaN  "
      ]
     },
     "execution_count": 21,
     "metadata": {},
     "output_type": "execute_result"
    }
   ],
   "source": [
    "# Roll-up  Cohorts to monthly \n",
    "cohorts = df.groupby(['Cohort', 'Age']).agg({'Customer ID': pd.Series.nunique,\n",
    "                       'Revenue': np.sum})\n",
    "\n",
    "# Rename Columns\n",
    "cohorts.rename(columns={'Customer ID': 'Num_Customers',\n",
    "                        'Revenue': 'Revenue'}, inplace=True)\n",
    "\n",
    "# Reset Index\n",
    "cohorts.reset_index(inplace=True)\n",
    "cohorts.set_index(['Cohort', 'Age'], inplace=True)\n",
    "\n",
    "# create a series that holds each cohort's group size\n",
    "cohort_group_size = cohorts['Num_Customers'].groupby(level=0).first()\n",
    "\n",
    "# create retention table\n",
    "survival = cohorts['Num_Customers'].unstack(0).divide(cohort_group_size, axis=1)\n",
    "survival"
   ]
  },
  {
   "cell_type": "code",
   "execution_count": 22,
   "metadata": {},
   "outputs": [
    {
     "data": {
      "text/plain": [
       "<function matplotlib.pyplot.show(close=None, block=None)>"
      ]
     },
     "execution_count": 22,
     "metadata": {},
     "output_type": "execute_result"
    },
    {
     "data": {
      "image/png": "[encoded data removed]",
      "text/plain": [
       "<Figure size 576x432 with 1 Axes>"
      ]
     },
     "metadata": {},
     "output_type": "display_data"
    }
   ],
   "source": [
    "#Plot: Survival by Each Cohort\n",
    "survival.plot(marker='o',figsize=(8,6))\n",
    "plt.ylabel('Survival')\n",
    "plt.title(\"Survival by Each Cohort\")\n",
    "plt.show"
   ]
  },
  {
   "cell_type": "markdown",
   "metadata": {},
   "source": [
    "## Cox’s proportional hazard regression model"
   ]
  },
  {
   "cell_type": "markdown",
   "metadata": {},
   "source": [
    "To predict the membership end date, we will be utilizing the Cox's proportional hazard regression model. \n",
    "\n",
    "More info can be found here: \n",
    "https://en.wikipedia.org/wiki/Proportional_hazards_model#The_Cox_model"
   ]
  },
  {
   "cell_type": "markdown",
   "metadata": {},
   "source": [
    "### Let's first create a flag, \"Close\" that identifes customers who no longer pay the membership fees. "
   ]
  },
  {
   "cell_type": "code",
   "execution_count": 23,
   "metadata": {},
   "outputs": [],
   "source": [
    "# pick last transaction date for each customer\n",
    "last_trans = df.sort_values('Transaction Date').groupby('Customer ID').tail(1)\n",
    "\n",
    "#exclude trasnactions in May-2019 and June-2019\n",
    "last_trans = last_trans[last_trans[\"Trans_Dt\"]<=\"2019-04\"]\n",
    "\n",
    "# set the last transaction as \"close\"\n",
    "last_trans['Close']=1"
   ]
  },
  {
   "cell_type": "code",
   "execution_count": 24,
   "metadata": {},
   "outputs": [],
   "source": [
    "#merge with the original data \n",
    "df_new= df.merge(last_trans, how='left', on =['Customer ID', 'Membership Start Date', 'Transaction Date', 'Payment Type', \n",
    "                                               'Cohort', 'Age'])\n",
    "\n",
    "# fill in NaN with zero\n",
    "df_new['Close']=df_new['Close'].fillna(0)\n",
    "df_new['Close']= df_new['Close'].astype(bool)"
   ]
  },
  {
   "cell_type": "code",
   "execution_count": 25,
   "metadata": {},
   "outputs": [],
   "source": [
    "# Split the data into two data sets based on transaction date\n",
    "df1 = df_new.loc[(df_new['Transaction Date']<pd.Timestamp(2019,5,1))]\n",
    "df2 = df_new.loc[(df_new['Transaction Date']>=pd.Timestamp(2019,5,1))]"
   ]
  },
  {
   "cell_type": "markdown",
   "metadata": {},
   "source": [
    "### Prepare Data and Features that include duration (Age) and censorship (Close)"
   ]
  },
  {
   "cell_type": "code",
   "execution_count": 26,
   "metadata": {},
   "outputs": [],
   "source": [
    "# set training dat as data with training date prior to May-2019\n",
    "\n",
    "# select the following features: payment type, age, cohort, close\n",
    "train_df = df1[['Payment Type', 'Age', 'Cohort', 'Close' ]]"
   ]
  },
  {
   "cell_type": "code",
   "execution_count": 27,
   "metadata": {},
   "outputs": [],
   "source": [
    "# create a function to process categorical features \n",
    "def fn_cat_feature(data, features):\n",
    "    \n",
    "    for f in data[features]:\n",
    "        lbl = preprocessing.LabelEncoder()\n",
    "        lbl.fit(list(data[f].values))\n",
    "        data[f] = lbl.transform(list(data[f].values))"
   ]
  },
  {
   "cell_type": "code",
   "execution_count": 28,
   "metadata": {},
   "outputs": [],
   "source": [
    "# Process the categorical features\n",
    "fn_cat_feature(train_df, ['Cohort', 'Close', 'Payment Type'])"
   ]
  },
  {
   "cell_type": "markdown",
   "metadata": {},
   "source": [
    "### Cox Proportional Hazard Model, 10-fold CV is used"
   ]
  },
  {
   "cell_type": "markdown",
   "metadata": {},
   "source": [
    " The Concordance Index evaluates the accuracy of the ordering of predicted time. This model achieved 66% Concordance. Considering that random predictions will have C-index of 50%, it is a reasonably fitted model."
   ]
  },
  {
   "cell_type": "code",
   "execution_count": 29,
   "metadata": {},
   "outputs": [
    {
     "name": "stdout",
     "output_type": "stream",
     "text": [
      "[-1.1334903917861203, -1.1267694504298784, -1.130431336640594, -1.1317086564273706, -1.13001646221301, -1.134597008043256, -1.1320350730741766, -1.118297677783745, -1.1239420692276287, -1.1355847647784045]\n"
     ]
    },
    {
     "data": {
      "text/html": [
       "<div>\n",
       "<style scoped>\n",
       "    .dataframe tbody tr th:only-of-type {\n",
       "        vertical-align: middle;\n",
       "    }\n",
       "\n",
       "    .dataframe tbody tr th {\n",
       "        vertical-align: top;\n",
       "    }\n",
       "\n",
       "    .dataframe thead th {\n",
       "        text-align: right;\n",
       "    }\n",
       "</style>\n",
       "<table border=\"1\" class=\"dataframe\">\n",
       "  <tbody>\n",
       "    <tr>\n",
       "      <th>model</th>\n",
       "      <td>lifelines.CoxPHFitter</td>\n",
       "    </tr>\n",
       "    <tr>\n",
       "      <th>duration col</th>\n",
       "      <td>'Age'</td>\n",
       "    </tr>\n",
       "    <tr>\n",
       "      <th>event col</th>\n",
       "      <td>'Close'</td>\n",
       "    </tr>\n",
       "    <tr>\n",
       "      <th>baseline estimation</th>\n",
       "      <td>breslow</td>\n",
       "    </tr>\n",
       "    <tr>\n",
       "      <th>number of observations</th>\n",
       "      <td>40383</td>\n",
       "    </tr>\n",
       "    <tr>\n",
       "      <th>number of events observed</th>\n",
       "      <td>5998</td>\n",
       "    </tr>\n",
       "    <tr>\n",
       "      <th>partial log-likelihood</th>\n",
       "      <td>-58766.72</td>\n",
       "    </tr>\n",
       "    <tr>\n",
       "      <th>time fit was run</th>\n",
       "      <td>2020-12-09 05:21:41 UTC</td>\n",
       "    </tr>\n",
       "  </tbody>\n",
       "</table>\n",
       "</div><table border=\"1\" class=\"dataframe\">\n",
       "  <thead>\n",
       "    <tr style=\"text-align: right;\">\n",
       "      <th style=\"min-width: 12px;\"></th>\n",
       "      <th style=\"min-width: 12px;\">coef</th>\n",
       "      <th style=\"min-width: 12px;\">exp(coef)</th>\n",
       "      <th style=\"min-width: 12px;\">se(coef)</th>\n",
       "      <th style=\"min-width: 12px;\">coef lower 95%</th>\n",
       "      <th style=\"min-width: 12px;\">coef upper 95%</th>\n",
       "      <th style=\"min-width: 12px;\">exp(coef) lower 95%</th>\n",
       "      <th style=\"min-width: 12px;\">exp(coef) upper 95%</th>\n",
       "      <th style=\"min-width: 12px;\">z</th>\n",
       "      <th style=\"min-width: 12px;\">p</th>\n",
       "      <th style=\"min-width: 12px;\">-log2(p)</th>\n",
       "    </tr>\n",
       "  </thead>\n",
       "  <tbody>\n",
       "    <tr>\n",
       "      <th>Payment Type</th>\n",
       "      <td>-1.06</td>\n",
       "      <td>0.35</td>\n",
       "      <td>0.04</td>\n",
       "      <td>-1.13</td>\n",
       "      <td>-0.99</td>\n",
       "      <td>0.32</td>\n",
       "      <td>0.37</td>\n",
       "      <td>-29.30</td>\n",
       "      <td>&lt;0.005</td>\n",
       "      <td>624.41</td>\n",
       "    </tr>\n",
       "    <tr>\n",
       "      <th>Cohort</th>\n",
       "      <td>0.11</td>\n",
       "      <td>1.12</td>\n",
       "      <td>0.01</td>\n",
       "      <td>0.10</td>\n",
       "      <td>0.13</td>\n",
       "      <td>1.11</td>\n",
       "      <td>1.13</td>\n",
       "      <td>20.25</td>\n",
       "      <td>&lt;0.005</td>\n",
       "      <td>300.46</td>\n",
       "    </tr>\n",
       "  </tbody>\n",
       "</table><br><div>\n",
       "<style scoped>\n",
       "    .dataframe tbody tr th:only-of-type {\n",
       "        vertical-align: middle;\n",
       "    }\n",
       "\n",
       "    .dataframe tbody tr th {\n",
       "        vertical-align: top;\n",
       "    }\n",
       "\n",
       "    .dataframe thead th {\n",
       "        text-align: right;\n",
       "    }\n",
       "</style>\n",
       "<table border=\"1\" class=\"dataframe\">\n",
       "  <tbody>\n",
       "    <tr>\n",
       "      <th>Concordance</th>\n",
       "      <td>0.66</td>\n",
       "    </tr>\n",
       "    <tr>\n",
       "      <th>Partial AIC</th>\n",
       "      <td>117537.44</td>\n",
       "    </tr>\n",
       "    <tr>\n",
       "      <th>log-likelihood ratio test</th>\n",
       "      <td>1437.82 on 2 df</td>\n",
       "    </tr>\n",
       "    <tr>\n",
       "      <th>-log2(p) of ll-ratio test</th>\n",
       "      <td>inf</td>\n",
       "    </tr>\n",
       "  </tbody>\n",
       "</table>\n",
       "</div>"
      ],
      "text/latex": [
       "\\begin{tabular}{lrrrrrrrrrr}\n",
       "\\toprule\n",
       "{} &  coef &  exp(coef) &  se(coef) &  coef lower 95\\% &  coef upper 95\\% &  exp(coef) lower 95\\% &  exp(coef) upper 95\\% &      z &    p &  -log2(p) \\\\\n",
       "covariate    &       &            &           &                 &                 &                      &                      &        &      &           \\\\\n",
       "\\midrule\n",
       "Payment Type & -1.06 &       0.35 &      0.04 &           -1.13 &           -0.99 &                 0.32 &                 0.37 & -29.30 & 0.00 &    624.41 \\\\\n",
       "Cohort       &  0.11 &       1.12 &      0.01 &            0.10 &            0.13 &                 1.11 &                 1.13 &  20.25 & 0.00 &    300.46 \\\\\n",
       "\\bottomrule\n",
       "\\end{tabular}\n"
      ],
      "text/plain": [
       "<lifelines.CoxPHFitter: fitted with 40383 total observations, 34385 right-censored observations>\n",
       "             duration col = 'Age'\n",
       "                event col = 'Close'\n",
       "      baseline estimation = breslow\n",
       "   number of observations = 40383\n",
       "number of events observed = 5998\n",
       "   partial log-likelihood = -58766.72\n",
       "         time fit was run = 2020-12-09 05:21:41 UTC\n",
       "\n",
       "---\n",
       "               coef  exp(coef)   se(coef)   coef lower 95%   coef upper 95%  exp(coef) lower 95%  exp(coef) upper 95%\n",
       "covariate                                                                                                            \n",
       "Payment Type  -1.06       0.35       0.04            -1.13            -0.99                 0.32                 0.37\n",
       "Cohort         0.11       1.12       0.01             0.10             0.13                 1.11                 1.13\n",
       "\n",
       "                  z      p   -log2(p)\n",
       "covariate                            \n",
       "Payment Type -29.30 <0.005     624.41\n",
       "Cohort        20.25 <0.005     300.46\n",
       "---\n",
       "Concordance = 0.66\n",
       "Partial AIC = 117537.44\n",
       "log-likelihood ratio test = 1437.82 on 2 df\n",
       "-log2(p) of ll-ratio test = inf"
      ]
     },
     "metadata": {},
     "output_type": "display_data"
    }
   ],
   "source": [
    "cph = CoxPHFitter()\n",
    "scores = k_fold_cross_validation(cph, train_df, 'Age', event_col='Close', k=10)\n",
    "print(scores)\n",
    "\n",
    "cph.print_summary()"
   ]
  },
  {
   "cell_type": "code",
   "execution_count": 30,
   "metadata": {},
   "outputs": [],
   "source": [
    "# Prepare the test data set \n",
    "pred_df = df2[['Payment Type', 'Age', 'Cohort', 'Close']]\n",
    "fn_cat_feature(pred_df, ['Cohort', 'Close', 'Payment Type'])"
   ]
  },
  {
   "cell_type": "code",
   "execution_count": 31,
   "metadata": {},
   "outputs": [
    {
     "data": {
      "text/html": [
       "<div>\n",
       "<style scoped>\n",
       "    .dataframe tbody tr th:only-of-type {\n",
       "        vertical-align: middle;\n",
       "    }\n",
       "\n",
       "    .dataframe tbody tr th {\n",
       "        vertical-align: top;\n",
       "    }\n",
       "\n",
       "    .dataframe thead th {\n",
       "        text-align: right;\n",
       "    }\n",
       "</style>\n",
       "<table border=\"1\" class=\"dataframe\">\n",
       "  <thead>\n",
       "    <tr style=\"text-align: right;\">\n",
       "      <th></th>\n",
       "      <th>4</th>\n",
       "      <th>9</th>\n",
       "      <th>14</th>\n",
       "      <th>24</th>\n",
       "      <th>31</th>\n",
       "      <th>39</th>\n",
       "      <th>67</th>\n",
       "      <th>102</th>\n",
       "      <th>108</th>\n",
       "      <th>125</th>\n",
       "      <th>...</th>\n",
       "      <th>49431</th>\n",
       "      <th>49434</th>\n",
       "      <th>49437</th>\n",
       "      <th>49440</th>\n",
       "      <th>49443</th>\n",
       "      <th>49446</th>\n",
       "      <th>49451</th>\n",
       "      <th>49454</th>\n",
       "      <th>49457</th>\n",
       "      <th>49464</th>\n",
       "    </tr>\n",
       "  </thead>\n",
       "  <tbody>\n",
       "    <tr>\n",
       "      <th>0.0</th>\n",
       "      <td>0.935588</td>\n",
       "      <td>0.935588</td>\n",
       "      <td>0.935588</td>\n",
       "      <td>0.942353</td>\n",
       "      <td>0.948427</td>\n",
       "      <td>0.953877</td>\n",
       "      <td>0.967065</td>\n",
       "      <td>0.970576</td>\n",
       "      <td>0.942353</td>\n",
       "      <td>0.948427</td>\n",
       "      <td>...</td>\n",
       "      <td>0.919690</td>\n",
       "      <td>0.919690</td>\n",
       "      <td>0.919690</td>\n",
       "      <td>0.919690</td>\n",
       "      <td>0.919690</td>\n",
       "      <td>0.919690</td>\n",
       "      <td>0.919690</td>\n",
       "      <td>0.919690</td>\n",
       "      <td>0.919690</td>\n",
       "      <td>0.919690</td>\n",
       "    </tr>\n",
       "    <tr>\n",
       "      <th>1.0</th>\n",
       "      <td>0.868072</td>\n",
       "      <td>0.868072</td>\n",
       "      <td>0.868072</td>\n",
       "      <td>0.881464</td>\n",
       "      <td>0.893581</td>\n",
       "      <td>0.904528</td>\n",
       "      <td>0.931308</td>\n",
       "      <td>0.938508</td>\n",
       "      <td>0.881464</td>\n",
       "      <td>0.893581</td>\n",
       "      <td>...</td>\n",
       "      <td>0.837027</td>\n",
       "      <td>0.837027</td>\n",
       "      <td>0.837027</td>\n",
       "      <td>0.837027</td>\n",
       "      <td>0.837027</td>\n",
       "      <td>0.837027</td>\n",
       "      <td>0.837027</td>\n",
       "      <td>0.837027</td>\n",
       "      <td>0.837027</td>\n",
       "      <td>0.837027</td>\n",
       "    </tr>\n",
       "    <tr>\n",
       "      <th>2.0</th>\n",
       "      <td>0.804548</td>\n",
       "      <td>0.804548</td>\n",
       "      <td>0.804548</td>\n",
       "      <td>0.823707</td>\n",
       "      <td>0.841176</td>\n",
       "      <td>0.857068</td>\n",
       "      <td>0.896381</td>\n",
       "      <td>0.907054</td>\n",
       "      <td>0.823707</td>\n",
       "      <td>0.841176</td>\n",
       "      <td>...</td>\n",
       "      <td>0.760747</td>\n",
       "      <td>0.760747</td>\n",
       "      <td>0.760747</td>\n",
       "      <td>0.760747</td>\n",
       "      <td>0.760747</td>\n",
       "      <td>0.760747</td>\n",
       "      <td>0.760747</td>\n",
       "      <td>0.760747</td>\n",
       "      <td>0.760747</td>\n",
       "      <td>0.760747</td>\n",
       "    </tr>\n",
       "    <tr>\n",
       "      <th>3.0</th>\n",
       "      <td>0.741674</td>\n",
       "      <td>0.741674</td>\n",
       "      <td>0.741674</td>\n",
       "      <td>0.766051</td>\n",
       "      <td>0.788465</td>\n",
       "      <td>0.809006</td>\n",
       "      <td>0.860433</td>\n",
       "      <td>0.874543</td>\n",
       "      <td>0.766051</td>\n",
       "      <td>0.788465</td>\n",
       "      <td>...</td>\n",
       "      <td>0.686760</td>\n",
       "      <td>0.686760</td>\n",
       "      <td>0.686760</td>\n",
       "      <td>0.686760</td>\n",
       "      <td>0.686760</td>\n",
       "      <td>0.686760</td>\n",
       "      <td>0.686760</td>\n",
       "      <td>0.686760</td>\n",
       "      <td>0.686760</td>\n",
       "      <td>0.686760</td>\n",
       "    </tr>\n",
       "    <tr>\n",
       "      <th>4.0</th>\n",
       "      <td>0.677465</td>\n",
       "      <td>0.677465</td>\n",
       "      <td>0.677465</td>\n",
       "      <td>0.706622</td>\n",
       "      <td>0.733680</td>\n",
       "      <td>0.758683</td>\n",
       "      <td>0.822121</td>\n",
       "      <td>0.839732</td>\n",
       "      <td>0.706622</td>\n",
       "      <td>0.733680</td>\n",
       "      <td>...</td>\n",
       "      <td>0.612852</td>\n",
       "      <td>0.612852</td>\n",
       "      <td>0.612852</td>\n",
       "      <td>0.612852</td>\n",
       "      <td>0.612852</td>\n",
       "      <td>0.612852</td>\n",
       "      <td>0.612852</td>\n",
       "      <td>0.612852</td>\n",
       "      <td>0.612852</td>\n",
       "      <td>0.612852</td>\n",
       "    </tr>\n",
       "    <tr>\n",
       "      <th>5.0</th>\n",
       "      <td>0.614509</td>\n",
       "      <td>0.614509</td>\n",
       "      <td>0.614509</td>\n",
       "      <td>0.647757</td>\n",
       "      <td>0.678921</td>\n",
       "      <td>0.707976</td>\n",
       "      <td>0.782761</td>\n",
       "      <td>0.803785</td>\n",
       "      <td>0.647757</td>\n",
       "      <td>0.678921</td>\n",
       "      <td>...</td>\n",
       "      <td>0.542118</td>\n",
       "      <td>0.542118</td>\n",
       "      <td>0.542118</td>\n",
       "      <td>0.542118</td>\n",
       "      <td>0.542118</td>\n",
       "      <td>0.542118</td>\n",
       "      <td>0.542118</td>\n",
       "      <td>0.542118</td>\n",
       "      <td>0.542118</td>\n",
       "      <td>0.542118</td>\n",
       "    </tr>\n",
       "    <tr>\n",
       "      <th>6.0</th>\n",
       "      <td>0.563568</td>\n",
       "      <td>0.563568</td>\n",
       "      <td>0.563568</td>\n",
       "      <td>0.599649</td>\n",
       "      <td>0.633769</td>\n",
       "      <td>0.665832</td>\n",
       "      <td>0.749420</td>\n",
       "      <td>0.773182</td>\n",
       "      <td>0.599649</td>\n",
       "      <td>0.633769</td>\n",
       "      <td>...</td>\n",
       "      <td>0.486225</td>\n",
       "      <td>0.486225</td>\n",
       "      <td>0.486225</td>\n",
       "      <td>0.486225</td>\n",
       "      <td>0.486225</td>\n",
       "      <td>0.486225</td>\n",
       "      <td>0.486225</td>\n",
       "      <td>0.486225</td>\n",
       "      <td>0.486225</td>\n",
       "      <td>0.486225</td>\n",
       "    </tr>\n",
       "    <tr>\n",
       "      <th>7.0</th>\n",
       "      <td>0.501304</td>\n",
       "      <td>0.501304</td>\n",
       "      <td>0.501304</td>\n",
       "      <td>0.540199</td>\n",
       "      <td>0.577424</td>\n",
       "      <td>0.612779</td>\n",
       "      <td>0.706562</td>\n",
       "      <td>0.733624</td>\n",
       "      <td>0.540199</td>\n",
       "      <td>0.577424</td>\n",
       "      <td>...</td>\n",
       "      <td>0.419667</td>\n",
       "      <td>0.419667</td>\n",
       "      <td>0.419667</td>\n",
       "      <td>0.419667</td>\n",
       "      <td>0.419667</td>\n",
       "      <td>0.419667</td>\n",
       "      <td>0.419667</td>\n",
       "      <td>0.419667</td>\n",
       "      <td>0.419667</td>\n",
       "      <td>0.419667</td>\n",
       "    </tr>\n",
       "    <tr>\n",
       "      <th>8.0</th>\n",
       "      <td>0.436906</td>\n",
       "      <td>0.436906</td>\n",
       "      <td>0.436906</td>\n",
       "      <td>0.477862</td>\n",
       "      <td>0.517614</td>\n",
       "      <td>0.555845</td>\n",
       "      <td>0.659348</td>\n",
       "      <td>0.689745</td>\n",
       "      <td>0.477862</td>\n",
       "      <td>0.517614</td>\n",
       "      <td>...</td>\n",
       "      <td>0.353038</td>\n",
       "      <td>0.353038</td>\n",
       "      <td>0.353038</td>\n",
       "      <td>0.353038</td>\n",
       "      <td>0.353038</td>\n",
       "      <td>0.353038</td>\n",
       "      <td>0.353038</td>\n",
       "      <td>0.353038</td>\n",
       "      <td>0.353038</td>\n",
       "      <td>0.353038</td>\n",
       "    </tr>\n",
       "    <tr>\n",
       "      <th>9.0</th>\n",
       "      <td>0.345522</td>\n",
       "      <td>0.345522</td>\n",
       "      <td>0.345522</td>\n",
       "      <td>0.387631</td>\n",
       "      <td>0.429493</td>\n",
       "      <td>0.470624</td>\n",
       "      <td>0.585938</td>\n",
       "      <td>0.620831</td>\n",
       "      <td>0.387631</td>\n",
       "      <td>0.429493</td>\n",
       "      <td>...</td>\n",
       "      <td>0.262830</td>\n",
       "      <td>0.262830</td>\n",
       "      <td>0.262830</td>\n",
       "      <td>0.262830</td>\n",
       "      <td>0.262830</td>\n",
       "      <td>0.262830</td>\n",
       "      <td>0.262830</td>\n",
       "      <td>0.262830</td>\n",
       "      <td>0.262830</td>\n",
       "      <td>0.262830</td>\n",
       "    </tr>\n",
       "  </tbody>\n",
       "</table>\n",
       "<p>10 rows × 4595 columns</p>\n",
       "</div>"
      ],
      "text/plain": [
       "        4         9         14        24        31        39        67     \\\n",
       "0.0  0.935588  0.935588  0.935588  0.942353  0.948427  0.953877  0.967065   \n",
       "1.0  0.868072  0.868072  0.868072  0.881464  0.893581  0.904528  0.931308   \n",
       "2.0  0.804548  0.804548  0.804548  0.823707  0.841176  0.857068  0.896381   \n",
       "3.0  0.741674  0.741674  0.741674  0.766051  0.788465  0.809006  0.860433   \n",
       "4.0  0.677465  0.677465  0.677465  0.706622  0.733680  0.758683  0.822121   \n",
       "5.0  0.614509  0.614509  0.614509  0.647757  0.678921  0.707976  0.782761   \n",
       "6.0  0.563568  0.563568  0.563568  0.599649  0.633769  0.665832  0.749420   \n",
       "7.0  0.501304  0.501304  0.501304  0.540199  0.577424  0.612779  0.706562   \n",
       "8.0  0.436906  0.436906  0.436906  0.477862  0.517614  0.555845  0.659348   \n",
       "9.0  0.345522  0.345522  0.345522  0.387631  0.429493  0.470624  0.585938   \n",
       "\n",
       "        102       108       125    ...     49431     49434     49437  \\\n",
       "0.0  0.970576  0.942353  0.948427  ...  0.919690  0.919690  0.919690   \n",
       "1.0  0.938508  0.881464  0.893581  ...  0.837027  0.837027  0.837027   \n",
       "2.0  0.907054  0.823707  0.841176  ...  0.760747  0.760747  0.760747   \n",
       "3.0  0.874543  0.766051  0.788465  ...  0.686760  0.686760  0.686760   \n",
       "4.0  0.839732  0.706622  0.733680  ...  0.612852  0.612852  0.612852   \n",
       "5.0  0.803785  0.647757  0.678921  ...  0.542118  0.542118  0.542118   \n",
       "6.0  0.773182  0.599649  0.633769  ...  0.486225  0.486225  0.486225   \n",
       "7.0  0.733624  0.540199  0.577424  ...  0.419667  0.419667  0.419667   \n",
       "8.0  0.689745  0.477862  0.517614  ...  0.353038  0.353038  0.353038   \n",
       "9.0  0.620831  0.387631  0.429493  ...  0.262830  0.262830  0.262830   \n",
       "\n",
       "        49440     49443     49446     49451     49454     49457     49464  \n",
       "0.0  0.919690  0.919690  0.919690  0.919690  0.919690  0.919690  0.919690  \n",
       "1.0  0.837027  0.837027  0.837027  0.837027  0.837027  0.837027  0.837027  \n",
       "2.0  0.760747  0.760747  0.760747  0.760747  0.760747  0.760747  0.760747  \n",
       "3.0  0.686760  0.686760  0.686760  0.686760  0.686760  0.686760  0.686760  \n",
       "4.0  0.612852  0.612852  0.612852  0.612852  0.612852  0.612852  0.612852  \n",
       "5.0  0.542118  0.542118  0.542118  0.542118  0.542118  0.542118  0.542118  \n",
       "6.0  0.486225  0.486225  0.486225  0.486225  0.486225  0.486225  0.486225  \n",
       "7.0  0.419667  0.419667  0.419667  0.419667  0.419667  0.419667  0.419667  \n",
       "8.0  0.353038  0.353038  0.353038  0.353038  0.353038  0.353038  0.353038  \n",
       "9.0  0.262830  0.262830  0.262830  0.262830  0.262830  0.262830  0.262830  \n",
       "\n",
       "[10 rows x 4595 columns]"
      ]
     },
     "execution_count": 31,
     "metadata": {},
     "output_type": "execute_result"
    }
   ],
   "source": [
    "# Predict survival rate on the test data set\n",
    "cph_pred = cph.predict_survival_function(pred_df)\n",
    "cph_pred"
   ]
  },
  {
   "cell_type": "code",
   "execution_count": 32,
   "metadata": {},
   "outputs": [
    {
     "data": {
      "image/png": "[encoded data removed]",
      "text/plain": [
       "<Figure size 432x288 with 1 Axes>"
      ]
     },
     "metadata": {},
     "output_type": "display_data"
    }
   ],
   "source": [
    "# check out individual plots (choose several indices to examine)\n",
    "subject = [4, 125, 49454]\n",
    "cph_pred[subject].plot(ls=\"--\") \n",
    "plt.ylabel('Survival Rate')\n",
    "plt.xlabel('Month Since Membership Began')\n",
    "plt.title(\"Survival Curve\")\n",
    "plt.show()"
   ]
  },
  {
   "cell_type": "markdown",
   "metadata": {},
   "source": [
    "### Prediction\n",
    "\n"
   ]
  },
  {
   "cell_type": "code",
   "execution_count": 33,
   "metadata": {},
   "outputs": [],
   "source": [
    "# Use Median prediction\n",
    "median_pred = cph.predict_median(pred_df)\n",
    "\n",
    "# Merge back to the test data set\n",
    "df2['median_pred'] = median_pred"
   ]
  },
  {
   "cell_type": "markdown",
   "metadata": {},
   "source": [
    "### Inf values in Prediction\n",
    "I noticed that the model is unable to predict, assigning infinite values to about 17% of these members who paid their monthly fee in May-2019. A closer look at this population reveals that these members are longer tenured members, on average, they having been paying more than 8 months. \n",
    "\n",
    "One likely explanation is, we don't have many cohorts that are seasoned so the model is unable to predict members who have been paying longer than 8, 9, or 10 months. Gathering more seasoned data will obviously be helpful, if that's not feasible in practice, we will have to explore other model options that were discussed in Q4. \n",
    "\n",
    "Here, I am simplying adding 6 months to the current age to treat these inf values."
   ]
  },
  {
   "cell_type": "code",
   "execution_count": 34,
   "metadata": {},
   "outputs": [
    {
     "name": "stdout",
     "output_type": "stream",
     "text": [
      "% of Inf predicted: 17.0\n",
      "Their Avg Age: 8.325316455696203\n"
     ]
    }
   ],
   "source": [
    "print(\"% of Inf predicted:\", (df2[df2['median_pred']== np.inf]['Customer ID'].count()/May2019_fee_total).round(2)*100)\n",
    "\n",
    "print(\"Their Avg Age:\", df2[df2['median_pred']== np.inf]['Age'].mean())"
   ]
  },
  {
   "cell_type": "code",
   "execution_count": 35,
   "metadata": {},
   "outputs": [
    {
     "data": {
      "text/html": [
       "<div>\n",
       "<style scoped>\n",
       "    .dataframe tbody tr th:only-of-type {\n",
       "        vertical-align: middle;\n",
       "    }\n",
       "\n",
       "    .dataframe tbody tr th {\n",
       "        vertical-align: top;\n",
       "    }\n",
       "\n",
       "    .dataframe thead th {\n",
       "        text-align: right;\n",
       "    }\n",
       "</style>\n",
       "<table border=\"1\" class=\"dataframe\">\n",
       "  <thead>\n",
       "    <tr style=\"text-align: right;\">\n",
       "      <th></th>\n",
       "      <th>Customer ID</th>\n",
       "      <th>Cohort</th>\n",
       "      <th>Age</th>\n",
       "      <th>median_pred</th>\n",
       "      <th>membership_end_date</th>\n",
       "    </tr>\n",
       "  </thead>\n",
       "  <tbody>\n",
       "    <tr>\n",
       "      <th>4</th>\n",
       "      <td>386379</td>\n",
       "      <td>2019-02</td>\n",
       "      <td>3</td>\n",
       "      <td>8.0</td>\n",
       "      <td>2019-07</td>\n",
       "    </tr>\n",
       "    <tr>\n",
       "      <th>9</th>\n",
       "      <td>385532</td>\n",
       "      <td>2019-02</td>\n",
       "      <td>3</td>\n",
       "      <td>8.0</td>\n",
       "      <td>2019-07</td>\n",
       "    </tr>\n",
       "    <tr>\n",
       "      <th>14</th>\n",
       "      <td>382351</td>\n",
       "      <td>2019-02</td>\n",
       "      <td>3</td>\n",
       "      <td>8.0</td>\n",
       "      <td>2019-07</td>\n",
       "    </tr>\n",
       "    <tr>\n",
       "      <th>24</th>\n",
       "      <td>363517</td>\n",
       "      <td>2019-01</td>\n",
       "      <td>4</td>\n",
       "      <td>8.0</td>\n",
       "      <td>2019-05</td>\n",
       "    </tr>\n",
       "    <tr>\n",
       "      <th>31</th>\n",
       "      <td>362304</td>\n",
       "      <td>2018-12</td>\n",
       "      <td>5</td>\n",
       "      <td>9.0</td>\n",
       "      <td>2019-04</td>\n",
       "    </tr>\n",
       "  </tbody>\n",
       "</table>\n",
       "</div>"
      ],
      "text/plain": [
       "    Customer ID   Cohort  Age  median_pred membership_end_date\n",
       "4        386379  2019-02    3          8.0             2019-07\n",
       "9        385532  2019-02    3          8.0             2019-07\n",
       "14       382351  2019-02    3          8.0             2019-07\n",
       "24       363517  2019-01    4          8.0             2019-05\n",
       "31       362304  2018-12    5          9.0             2019-04"
      ]
     },
     "execution_count": 35,
     "metadata": {},
     "output_type": "execute_result"
    }
   ],
   "source": [
    "# Output File: Prediction \n",
    "prediction = df2[['Customer ID', 'Cohort', 'Age', 'median_pred']]\n",
    "\n",
    "# treat inf values\n",
    "prediction['median_pred'] = np.where(prediction['median_pred']==np.inf, (prediction['Age']+6), prediction['median_pred'])\n",
    "\n",
    "# Create membership end date\n",
    "plus_month_period = (prediction['median_pred']- prediction['Age']).astype(int)\n",
    "prediction['membership_end_date'] = prediction['Cohort'] + plus_month_period\n",
    "prediction.head()"
   ]
  },
  {
   "cell_type": "markdown",
   "metadata": {},
   "source": [
    "### Output File"
   ]
  },
  {
   "cell_type": "code",
   "execution_count": 36,
   "metadata": {},
   "outputs": [],
   "source": [
    "prediction.to_csv(\"output.csv\", index=True, header=True)"
   ]
  }
 ],
 "metadata": {
  "creator": "joh01",
  "customFields": {},
  "kernelspec": {
   "display_name": "Python 3",
   "language": "python",
   "name": "python3"
  },
  "language_info": {
   "codemirror_mode": {
    "name": "ipython",
    "version": 3
   },
   "file_extension": ".py",
   "mimetype": "text/x-python",
   "name": "python",
   "nbconvert_exporter": "python",
   "pygments_lexer": "ipython3",
   "version": "3.8.5"
  },
  "tags": []
 },
 "nbformat": 4,
 "nbformat_minor": 1
}
